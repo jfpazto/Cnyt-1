{
 "cells": [
  {
   "cell_type": "markdown",
   "metadata": {},
   "source": [
    "# Proyecto 2 Tercio"
   ]
  },
  {
   "cell_type": "markdown",
   "metadata": {},
   "source": [
    "## Punto 1. Experimento de la doble rendija (probabilístico)"
   ]
  },
  {
   "cell_type": "markdown",
   "metadata": {},
   "source": [
    "### + Partimos del siguiente grafo"
   ]
  },
  {
   "cell_type": "markdown",
   "metadata": {},
   "source": [
    "<img src = \"grafo.png\" style = \"float:center\" width = \"50%\">"
   ]
  },
  {
   "cell_type": "markdown",
   "metadata": {},
   "source": [
    "#### La matriz asociada es:\n"
   ]
  },
  {
   "cell_type": "markdown",
   "metadata": {},
   "source": [
    "$$M = \\begin {bmatrix} 0 & 0 & 0 & 0 & 0 & 0 & 0 & 0 \\\\ 1/2 & 0 & 0 & 0 & 0 & 0 & 0 & 0 \\\\ 1/2 & 0 & 0 & 0 & 0 & 0 & 0 & 0 \\\\ 0 & 1/3 & 0 & 1 & 0 & 0 & 0 & 0 \\\\ 0 & 1/3 & 0 & 0 & 1 & 0 & 0 & 0 \\\\ 0 & 1/3 & 1/3 & 0 & 0 & 1 & 0 & 0 \\\\ 0 & 0 & 1/3 & 0 & 0 & 0 & 1 & 0 \\\\ 0 & 0 & 1/3 & 0 & 0 & 0 & 0 & 1 \\end {bmatrix} $$  "
   ]
  },
  {
   "cell_type": "markdown",
   "metadata": {},
   "source": [
    "#### Tomamos el vector inicial como:"
   ]
  },
  {
   "cell_type": "markdown",
   "metadata": {},
   "source": [
    "$$B = \\begin {bmatrix} 1 & 0 & 0 & 0 & 0 & 0 & 0 & 0  \\end {bmatrix} $$  "
   ]
  },
  {
   "cell_type": "code",
   "execution_count": 1,
   "metadata": {},
   "outputs": [],
   "source": [
    "import proyecto as p2"
   ]
  },
  {
   "cell_type": "code",
   "execution_count": 2,
   "metadata": {},
   "outputs": [
    {
     "data": {
      "image/png": "[encoded data removed]",
      "text/plain": [
       "<Figure size 432x288 with 1 Axes>"
      ]
     },
     "metadata": {
      "needs_background": "light"
     },
     "output_type": "display_data"
    },
    {
     "data": {
      "text/plain": [
       "[(0.0, 0.0),\n",
       " (0.0, 0.0),\n",
       " (0.0, 0.0),\n",
       " (0.16666666666666666, 0.0),\n",
       " (0.16666666666666666, 0.0),\n",
       " (0.3333333333333333, 0.0),\n",
       " (0.16666666666666666, 0.0),\n",
       " (0.16666666666666666, 0.0)]"
      ]
     },
     "execution_count": 2,
     "metadata": {},
     "output_type": "execute_result"
    }
   ],
   "source": [
    "p2.clasico_dinamico(2)"
   ]
  },
  {
   "cell_type": "markdown",
   "metadata": {},
   "source": [
    "#### Despues de dos clicks de tiempo tenemos:"
   ]
  },
  {
   "cell_type": "markdown",
   "metadata": {},
   "source": [
    "$$B = \\begin {bmatrix} 0 & 0 & 0 & 1/6 & 1/6 & 1/3 & 1/6 & 1/6  \\end {bmatrix} $$  "
   ]
  },
  {
   "cell_type": "markdown",
   "metadata": {},
   "source": [
    "### Punto 2 Experimento de la doble rendija (cuántico)."
   ]
  },
  {
   "cell_type": "markdown",
   "metadata": {},
   "source": [
    "#### La matriz asociada es:"
   ]
  },
  {
   "cell_type": "markdown",
   "metadata": {},
   "source": [
    "$$M = \\begin {bmatrix} 0 & 0 & 0 & 0 & 0 & 0 & 0 & 0 \\\\ 1/√2 & 0 & 0 & 0 & 0 & 0 & 0 & 0 \\\\ 1/√2 & 0 & 0 & 0 & 0 & 0 & 0 & 0 \\\\ 0 & -1+i/√6 & 0 & 1 & 0 & 0 & 0 & 0 \\\\ 0 & -1-i/√6 & 0 & 0 & 1 & 0 & 0 & 0 \\\\ 0 & 1-i/√6 & -1+i/√6 & 0 & 0 & 1 & 0 & 0 \\\\ 0 & 0 & -1-i/√6 & 0 & 0 & 0 & 1 & 0 \\\\ 0 & 0 & 1-i/√6 & 0 & 0 & 0 & 0 & 1 \\end {bmatrix} $$  "
   ]
  },
  {
   "cell_type": "code",
   "execution_count": 3,
   "metadata": {},
   "outputs": [
    {
     "data": {
      "image/png": "[encoded data removed]",
      "text/plain": [
       "<Figure size 432x288 with 1 Axes>"
      ]
     },
     "metadata": {
      "needs_background": "light"
     },
     "output_type": "display_data"
    },
    {
     "name": "stdout",
     "output_type": "stream",
     "text": [
      "[(0.0, 0.0), (0.0, 0.0), (0.0, 0.0), (-0.2886751345948129, 0.2886751345948129), (-0.2886751345948129, -0.2886751345948129), (0.0, 0.0), (-0.2886751345948129, -0.2886751345948129), (0.2886751345948129, -0.2886751345948129)]\n"
     ]
    }
   ],
   "source": [
    "import Clásico_a_cuántico as p3"
   ]
  },
  {
   "cell_type": "markdown",
   "metadata": {},
   "source": [
    "### Punto 3 Reseña del experimento de la doble rendija físico."
   ]
  },
  {
   "cell_type": "markdown",
   "metadata": {},
   "source": [
    "El experimento de la doble rendija fue realizado por primera vez por Thomas Young en el año de 1801, en el cual Young pudo comprobar como a partir de una luz procedente desde un punto lejano se generaba un patron de interferencias al abrirse paso en medio de dos rejillas. Este resultado genero un gran aporte para la teoria de la naturaleza ondulatoria de la luz.\n",
    "\n",
    "##### Materiales para realizar el experimento:\n",
    "\n",
    "    1: Papel Aluminio\n",
    "    2: Regla\n",
    "    3: Carton Paja\n",
    "    4: Bisturi\n",
    "    5: Laser\n",
    "    6: Cinta Pegante\n",
    "    \n",
    "#### Procedimiento:\n",
    "    1: Se crea la base para apoyar el laser, y se recorta un cuadrado en el carton paja para poder colocar el papel aluminio\n",
    "    2: Se generan dos cortes al papel aluminio que sean paralelos y que halla muy poca distancia entre los dos \n",
    "    3: Se apunta con el laser para obtener el resultado final\n",
    "\n",
    "#### Resultado Final:"
   ]
  },
  {
   "cell_type": "markdown",
   "metadata": {},
   "source": [
    "<img src = \"rendija.png\" style = \"float:center\" width = \"50%\">"
   ]
  },
  {
   "cell_type": "markdown",
   "metadata": {},
   "source": [
    "#### Comparacion:\n",
    "\n",
    "Teniendo en cuenta los dos puntos anteriores y el resultado obtenido en el experimento podemos observar que se asemeja o tiene mayor similitud con el sistema probabilistico ya que segun la imagen podemos ver como su pico mas alto esta en la mitad y y a sus lados aparantemente las lineas estan de igual tamaño, aplicacndo el principio de superposicion cuantica el cual nos dice que una luz pasa por dos ranuras o rendijas para luego interferir con ella misma hasta que golpear la pared de impacto u otro objeto y es ahi cuando podemos observar nuestros resultados."
   ]
  },
  {
   "cell_type": "code",
   "execution_count": null,
   "metadata": {},
   "outputs": [],
   "source": []
  }
 ],
 "metadata": {
  "kernelspec": {
   "display_name": "Python 3",
   "language": "python",
   "name": "python3"
  },
  "language_info": {
   "codemirror_mode": {
    "name": "ipython",
    "version": 3
   },
   "file_extension": ".py",
   "mimetype": "text/x-python",
   "name": "python",
   "nbconvert_exporter": "python",
   "pygments_lexer": "ipython3",
   "version": "3.8.2"
  }
 },
 "nbformat": 4,
 "nbformat_minor": 4
}
